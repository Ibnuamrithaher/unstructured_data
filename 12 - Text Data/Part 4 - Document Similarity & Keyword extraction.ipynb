{
  "nbformat": 4,
  "nbformat_minor": 0,
  "metadata": {
    "colab": {
      "provenance": [],
      "authorship_tag": "ABX9TyMVsxdSFuYdyoKeDBLoXqcb",
      "include_colab_link": true
    },
    "kernelspec": {
      "name": "python3",
      "display_name": "Python 3"
    },
    "language_info": {
      "name": "python"
    }
  },
  "cells": [
    {
      "cell_type": "markdown",
      "metadata": {
        "id": "view-in-github",
        "colab_type": "text"
      },
      "source": [
        "<a href=\"https://colab.research.google.com/github/Ibnuamrithaher/unstructured_data/blob/main/12%20-%20Text%20Data/Part%204%20-%20Document%20Similarity%20%26%20Keyword%20extraction.ipynb\" target=\"_parent\"><img src=\"https://colab.research.google.com/assets/colab-badge.svg\" alt=\"Open In Colab\"/></a>"
      ]
    },
    {
      "cell_type": "code",
      "execution_count": 5,
      "metadata": {
        "colab": {
          "base_uri": "https://localhost:8080/"
        },
        "id": "CMymrLDRaV3h",
        "outputId": "3d817274-1ef9-4429-ca1f-395c04e3b6bf"
      },
      "outputs": [
        {
          "output_type": "stream",
          "name": "stderr",
          "text": [
            "[nltk_data] Downloading package stopwords to /root/nltk_data...\n",
            "[nltk_data]   Package stopwords is already up-to-date!\n",
            "[nltk_data] Downloading package punkt to /root/nltk_data...\n",
            "[nltk_data]   Package punkt is already up-to-date!\n",
            "[nltk_data] Downloading package punkt_tab to /root/nltk_data...\n",
            "[nltk_data]   Unzipping tokenizers/punkt_tab.zip.\n"
          ]
        }
      ],
      "source": [
        "import nltk\n",
        "nltk.download(\"stopwords\")\n",
        "nltk.download(\"punkt\")\n",
        "nltk.download('punkt_tab')\n",
        "\n",
        "import pandas as pd\n",
        "from nltk.tokenize import word_tokenize\n",
        "from nltk.corpus import stopwords\n",
        "from string import punctuation\n",
        "\n",
        "sw_indo = stopwords.words(\"indonesian\") + list(punctuation)"
      ]
    },
    {
      "cell_type": "markdown",
      "source": [
        "## **Import Data**"
      ],
      "metadata": {
        "id": "TrivosHxawgn"
      }
    },
    {
      "cell_type": "code",
      "source": [
        "url = \"https://raw.githubusercontent.com/Ibnuamrithaher/unstructured_data/refs/heads/main/12%20-%20Text%20Data/data/kompas.csv\"\n",
        "df = pd.read_csv(url)\n",
        "df.head()"
      ],
      "metadata": {
        "colab": {
          "base_uri": "https://localhost:8080/",
          "height": 206
        },
        "id": "w49LcJsEahjr",
        "outputId": "daed6d07-29bb-483a-9ec0-1b60e6f07d5c"
      },
      "execution_count": 2,
      "outputs": [
        {
          "output_type": "execute_result",
          "data": {
            "text/plain": [
              "                                                teks\n",
              "0  Ginandjar Tetap Ditahan. Jaksa Agung Dilaporka...\n",
              "1  Jakarta Dikangkangi Para Preman\\nKALAU tak pun...\n",
              "2  Penyimpangan di Setpres Seolah Terjadi Sekaran...\n",
              "3  Dibayarkan, Rapel Kenaikan Gaji Pegawai Pos\\nK...\n",
              "4  Stop Kekerasan, Elite agar Duduk Bersama\\nSeju..."
            ],
            "text/html": [
              "\n",
              "  <div id=\"df-24ccb5b6-1b92-4b66-8e94-d005ef1cff8d\" class=\"colab-df-container\">\n",
              "    <div>\n",
              "<style scoped>\n",
              "    .dataframe tbody tr th:only-of-type {\n",
              "        vertical-align: middle;\n",
              "    }\n",
              "\n",
              "    .dataframe tbody tr th {\n",
              "        vertical-align: top;\n",
              "    }\n",
              "\n",
              "    .dataframe thead th {\n",
              "        text-align: right;\n",
              "    }\n",
              "</style>\n",
              "<table border=\"1\" class=\"dataframe\">\n",
              "  <thead>\n",
              "    <tr style=\"text-align: right;\">\n",
              "      <th></th>\n",
              "      <th>teks</th>\n",
              "    </tr>\n",
              "  </thead>\n",
              "  <tbody>\n",
              "    <tr>\n",
              "      <th>0</th>\n",
              "      <td>Ginandjar Tetap Ditahan. Jaksa Agung Dilaporka...</td>\n",
              "    </tr>\n",
              "    <tr>\n",
              "      <th>1</th>\n",
              "      <td>Jakarta Dikangkangi Para Preman\\nKALAU tak pun...</td>\n",
              "    </tr>\n",
              "    <tr>\n",
              "      <th>2</th>\n",
              "      <td>Penyimpangan di Setpres Seolah Terjadi Sekaran...</td>\n",
              "    </tr>\n",
              "    <tr>\n",
              "      <th>3</th>\n",
              "      <td>Dibayarkan, Rapel Kenaikan Gaji Pegawai Pos\\nK...</td>\n",
              "    </tr>\n",
              "    <tr>\n",
              "      <th>4</th>\n",
              "      <td>Stop Kekerasan, Elite agar Duduk Bersama\\nSeju...</td>\n",
              "    </tr>\n",
              "  </tbody>\n",
              "</table>\n",
              "</div>\n",
              "    <div class=\"colab-df-buttons\">\n",
              "\n",
              "  <div class=\"colab-df-container\">\n",
              "    <button class=\"colab-df-convert\" onclick=\"convertToInteractive('df-24ccb5b6-1b92-4b66-8e94-d005ef1cff8d')\"\n",
              "            title=\"Convert this dataframe to an interactive table.\"\n",
              "            style=\"display:none;\">\n",
              "\n",
              "  <svg xmlns=\"http://www.w3.org/2000/svg\" height=\"24px\" viewBox=\"0 -960 960 960\">\n",
              "    <path d=\"M120-120v-720h720v720H120Zm60-500h600v-160H180v160Zm220 220h160v-160H400v160Zm0 220h160v-160H400v160ZM180-400h160v-160H180v160Zm440 0h160v-160H620v160ZM180-180h160v-160H180v160Zm440 0h160v-160H620v160Z\"/>\n",
              "  </svg>\n",
              "    </button>\n",
              "\n",
              "  <style>\n",
              "    .colab-df-container {\n",
              "      display:flex;\n",
              "      gap: 12px;\n",
              "    }\n",
              "\n",
              "    .colab-df-convert {\n",
              "      background-color: #E8F0FE;\n",
              "      border: none;\n",
              "      border-radius: 50%;\n",
              "      cursor: pointer;\n",
              "      display: none;\n",
              "      fill: #1967D2;\n",
              "      height: 32px;\n",
              "      padding: 0 0 0 0;\n",
              "      width: 32px;\n",
              "    }\n",
              "\n",
              "    .colab-df-convert:hover {\n",
              "      background-color: #E2EBFA;\n",
              "      box-shadow: 0px 1px 2px rgba(60, 64, 67, 0.3), 0px 1px 3px 1px rgba(60, 64, 67, 0.15);\n",
              "      fill: #174EA6;\n",
              "    }\n",
              "\n",
              "    .colab-df-buttons div {\n",
              "      margin-bottom: 4px;\n",
              "    }\n",
              "\n",
              "    [theme=dark] .colab-df-convert {\n",
              "      background-color: #3B4455;\n",
              "      fill: #D2E3FC;\n",
              "    }\n",
              "\n",
              "    [theme=dark] .colab-df-convert:hover {\n",
              "      background-color: #434B5C;\n",
              "      box-shadow: 0px 1px 3px 1px rgba(0, 0, 0, 0.15);\n",
              "      filter: drop-shadow(0px 1px 2px rgba(0, 0, 0, 0.3));\n",
              "      fill: #FFFFFF;\n",
              "    }\n",
              "  </style>\n",
              "\n",
              "    <script>\n",
              "      const buttonEl =\n",
              "        document.querySelector('#df-24ccb5b6-1b92-4b66-8e94-d005ef1cff8d button.colab-df-convert');\n",
              "      buttonEl.style.display =\n",
              "        google.colab.kernel.accessAllowed ? 'block' : 'none';\n",
              "\n",
              "      async function convertToInteractive(key) {\n",
              "        const element = document.querySelector('#df-24ccb5b6-1b92-4b66-8e94-d005ef1cff8d');\n",
              "        const dataTable =\n",
              "          await google.colab.kernel.invokeFunction('convertToInteractive',\n",
              "                                                    [key], {});\n",
              "        if (!dataTable) return;\n",
              "\n",
              "        const docLinkHtml = 'Like what you see? Visit the ' +\n",
              "          '<a target=\"_blank\" href=https://colab.research.google.com/notebooks/data_table.ipynb>data table notebook</a>'\n",
              "          + ' to learn more about interactive tables.';\n",
              "        element.innerHTML = '';\n",
              "        dataTable['output_type'] = 'display_data';\n",
              "        await google.colab.output.renderOutput(dataTable, element);\n",
              "        const docLink = document.createElement('div');\n",
              "        docLink.innerHTML = docLinkHtml;\n",
              "        element.appendChild(docLink);\n",
              "      }\n",
              "    </script>\n",
              "  </div>\n",
              "\n",
              "\n",
              "<div id=\"df-8c836243-69c0-4838-b07c-2e4b16bc2b3f\">\n",
              "  <button class=\"colab-df-quickchart\" onclick=\"quickchart('df-8c836243-69c0-4838-b07c-2e4b16bc2b3f')\"\n",
              "            title=\"Suggest charts\"\n",
              "            style=\"display:none;\">\n",
              "\n",
              "<svg xmlns=\"http://www.w3.org/2000/svg\" height=\"24px\"viewBox=\"0 0 24 24\"\n",
              "     width=\"24px\">\n",
              "    <g>\n",
              "        <path d=\"M19 3H5c-1.1 0-2 .9-2 2v14c0 1.1.9 2 2 2h14c1.1 0 2-.9 2-2V5c0-1.1-.9-2-2-2zM9 17H7v-7h2v7zm4 0h-2V7h2v10zm4 0h-2v-4h2v4z\"/>\n",
              "    </g>\n",
              "</svg>\n",
              "  </button>\n",
              "\n",
              "<style>\n",
              "  .colab-df-quickchart {\n",
              "      --bg-color: #E8F0FE;\n",
              "      --fill-color: #1967D2;\n",
              "      --hover-bg-color: #E2EBFA;\n",
              "      --hover-fill-color: #174EA6;\n",
              "      --disabled-fill-color: #AAA;\n",
              "      --disabled-bg-color: #DDD;\n",
              "  }\n",
              "\n",
              "  [theme=dark] .colab-df-quickchart {\n",
              "      --bg-color: #3B4455;\n",
              "      --fill-color: #D2E3FC;\n",
              "      --hover-bg-color: #434B5C;\n",
              "      --hover-fill-color: #FFFFFF;\n",
              "      --disabled-bg-color: #3B4455;\n",
              "      --disabled-fill-color: #666;\n",
              "  }\n",
              "\n",
              "  .colab-df-quickchart {\n",
              "    background-color: var(--bg-color);\n",
              "    border: none;\n",
              "    border-radius: 50%;\n",
              "    cursor: pointer;\n",
              "    display: none;\n",
              "    fill: var(--fill-color);\n",
              "    height: 32px;\n",
              "    padding: 0;\n",
              "    width: 32px;\n",
              "  }\n",
              "\n",
              "  .colab-df-quickchart:hover {\n",
              "    background-color: var(--hover-bg-color);\n",
              "    box-shadow: 0 1px 2px rgba(60, 64, 67, 0.3), 0 1px 3px 1px rgba(60, 64, 67, 0.15);\n",
              "    fill: var(--button-hover-fill-color);\n",
              "  }\n",
              "\n",
              "  .colab-df-quickchart-complete:disabled,\n",
              "  .colab-df-quickchart-complete:disabled:hover {\n",
              "    background-color: var(--disabled-bg-color);\n",
              "    fill: var(--disabled-fill-color);\n",
              "    box-shadow: none;\n",
              "  }\n",
              "\n",
              "  .colab-df-spinner {\n",
              "    border: 2px solid var(--fill-color);\n",
              "    border-color: transparent;\n",
              "    border-bottom-color: var(--fill-color);\n",
              "    animation:\n",
              "      spin 1s steps(1) infinite;\n",
              "  }\n",
              "\n",
              "  @keyframes spin {\n",
              "    0% {\n",
              "      border-color: transparent;\n",
              "      border-bottom-color: var(--fill-color);\n",
              "      border-left-color: var(--fill-color);\n",
              "    }\n",
              "    20% {\n",
              "      border-color: transparent;\n",
              "      border-left-color: var(--fill-color);\n",
              "      border-top-color: var(--fill-color);\n",
              "    }\n",
              "    30% {\n",
              "      border-color: transparent;\n",
              "      border-left-color: var(--fill-color);\n",
              "      border-top-color: var(--fill-color);\n",
              "      border-right-color: var(--fill-color);\n",
              "    }\n",
              "    40% {\n",
              "      border-color: transparent;\n",
              "      border-right-color: var(--fill-color);\n",
              "      border-top-color: var(--fill-color);\n",
              "    }\n",
              "    60% {\n",
              "      border-color: transparent;\n",
              "      border-right-color: var(--fill-color);\n",
              "    }\n",
              "    80% {\n",
              "      border-color: transparent;\n",
              "      border-right-color: var(--fill-color);\n",
              "      border-bottom-color: var(--fill-color);\n",
              "    }\n",
              "    90% {\n",
              "      border-color: transparent;\n",
              "      border-bottom-color: var(--fill-color);\n",
              "    }\n",
              "  }\n",
              "</style>\n",
              "\n",
              "  <script>\n",
              "    async function quickchart(key) {\n",
              "      const quickchartButtonEl =\n",
              "        document.querySelector('#' + key + ' button');\n",
              "      quickchartButtonEl.disabled = true;  // To prevent multiple clicks.\n",
              "      quickchartButtonEl.classList.add('colab-df-spinner');\n",
              "      try {\n",
              "        const charts = await google.colab.kernel.invokeFunction(\n",
              "            'suggestCharts', [key], {});\n",
              "      } catch (error) {\n",
              "        console.error('Error during call to suggestCharts:', error);\n",
              "      }\n",
              "      quickchartButtonEl.classList.remove('colab-df-spinner');\n",
              "      quickchartButtonEl.classList.add('colab-df-quickchart-complete');\n",
              "    }\n",
              "    (() => {\n",
              "      let quickchartButtonEl =\n",
              "        document.querySelector('#df-8c836243-69c0-4838-b07c-2e4b16bc2b3f button');\n",
              "      quickchartButtonEl.style.display =\n",
              "        google.colab.kernel.accessAllowed ? 'block' : 'none';\n",
              "    })();\n",
              "  </script>\n",
              "</div>\n",
              "\n",
              "    </div>\n",
              "  </div>\n"
            ],
            "application/vnd.google.colaboratory.intrinsic+json": {
              "type": "dataframe",
              "variable_name": "df",
              "summary": "{\n  \"name\": \"df\",\n  \"rows\": 2008,\n  \"fields\": [\n    {\n      \"column\": \"teks\",\n      \"properties\": {\n        \"dtype\": \"string\",\n        \"num_unique_values\": 2008,\n        \"samples\": [\n          \"Wakil Presiden Hamzah Haz:   Stimulus Ekonomi Baru Segera Diluncurkan\\n\\nWakil Presiden (Wapres) Hamzah Haz menyatakan, pemulihan ekonomi tidak mungkin terjadi tanpa kemampuan menggerakkan sektor riil. Oleh karena itu, pemerintah sedang merancang paket kebijakan pemulihan ekonomi yang menyeluruh, yang dapat menggerakkan sektor riil dan sektor keuangan, dan menjadi stimulus untuk menuju pemulihan ekonomi. Paket itu rencananya akan dikeluarkan awal Maret ini. \\n\\n\\\"Tanpa menggerakkan sektor riil tidak mungkin kita menuju recovery. Kalau hanya menjual-jual aset saja, maka pekerjaan kita sepanjang tahun hanya menyamakan APBN (Anggaran Pendapatan dan Belanja Negara-Red). Memang dengan menjual aset sudah bisa berjalan. Akan tetapi, kalau aset itu sudah habis, sementara sektor riil tidak bergerak, bagaimana kita menutup keuangan negara,\\\" tutur Hamzah Haz dalam perbincangan dengan Kompas di Kantor Wakil Presiden Jalan Medan Merdeka Selatan, Jakarta, Rabu (13/2).  \\n\\nUntuk menjalankan paket kebijakan pemulihan ekonomi yang utuh, masing-masing departemen membuat program yang dikompilasi satu sama lain. Tidak berdiri sendiri-sendiri seperti selama ini.  \\n\\nAkibatnya, kurs rupiah tetap rendah, yaitu lebih dari Rp 10.000 per dollar AS. Padahal, APBN mengasumsikan nilai tukar rupiah terhadap dollar AS sebesar Rp 9.000 per dollar AS. \\\"Kalau sampai tahun 2002 ini tetap Rp 10.000, APBN kita akan sangat berat, yaitu mendapat tambahan beban Rp 1.000 per dollar AS, dan itu membuat defisitnya bertambah besar,\\\" ungkap Wapres. \\n\\nUntuk itu, lanjut Hamzah Haz, harus disusun kebijakan yang komprehensif yang memiliki nilai tambah sehingga saat kebijakan itu diluncurkan, dapat menumbuhkan kepercayaan dan respons pasar. Dengan demikian berpengaruh terhadap kurs rupiah, misalnya yang tadinya Rp 10.300 bisa turun minimal menjadi sama dengan asumsi APBN.  \\n\\n\\\"Saya membantu Menko Perekonomian memfokuskan pekerjaannya, mengompilasikan semua program dan menjadikannya satu paket yang utuh, tidak parsial seperti selama ini terjadi,\\\" Hamzah menjelaskan. \\n\\nNamun demikian, Hamzah menolak, bila dikatakan dirinya yang memegang \\\"komando\\\" pelaksanaan program paket kebijakan pemulihan ekonomi. \\\"Bukan saya. Penanganannya tetap pada menteri-menteri bersangkutan. Tempat Wapres ini katakanlah hanya menjadi semacam tempat untuk monitoring, semacam crisis centre,\\\" tuturnya. \\n\\nMenjawab pertanyaan apakah Wapres yang menjadi koordinator pelaksanaan program, Hamzah mengatakan, \\\"Bukan. Fungsi koordinasi tetap di Menko Perekonomian, saya cuma membantu, ya mempercepatlah. Sebab kita harapkan dalam dua tahun ini recovery sudah dapat terjadi.\\\" \\n\\nDijelaskan, saat ini draf paket program kebijakan pemulihan ekonomi tersebut sudah 70 persen dikerjakan. \\\"Awal bulan Maret sudah selesai. Bersama Menko Perekonomian kita akan mengundang semua menteri terkait, dan kita harapkan mereka setuju, serta tidak ada lagi ego departemen. Akan tetapi, paket kebijakan ini menjadi satu kesatuan dan dijalankan bersama, setelah diputuskan oleh sidang kabinet baru itu menjadi paket nasional,\\\" kata Hamzah Haz. \\n\\nSudah bangkrut \\n\\nHamzah menggambarkan, situasi keuangan negara saat ini sudah dalam keadaan yang sangat kritis. \\\"Andaikan ini perusahaan, kita sudah bangkrut,\\\" tegasnya. \\n\\nBeban pengeluaran sangat besar, sementara penerimaan masih penuh ketidakpastian. Dipaparkan, pada tahun 2002 diperlukan Rp 60 trilyun untuk membayar bunga obligasi dalam negeri, yang jumlahnya mencapai Rp 650 trilyun. Sementara, untuk membayar angsuran pokok dan bunga utang luar negeri diperlukan Rp 7,5 milyar dollar AS atau sekitar Rp 80 trilyun.  \\n\\n\\\"Jadi untuk bayar bunga obligasi dan cicilan utang dan bunga utang luar negeri saja dibutuhkan Rp 140 trilyun. Ini menyebabkan tekanan terhadap APBN dan tax ratio kita yang hanya 13 persen. Kalau pada masa lalu, tax ratio 13 persen masih dapat dipakai untuk memacu kegiatan ekonomi karena tanpa beban membayar bunga obligasi. Akan tetapi, sekarang tax ratio 13 persen itu menjadi tidak berarti lagi,\\\" tuturnya. \\n\\nUntuk memacu kegiatan ekonomi saat ini, menurut Hamzah, setidaknya diperlukan rasio pajak (tax ratio) sebesar 26 persen. \\\"Dan itu artinya sektor riil harus jalan, dan kita harus fokus ke sana,\\\" katanya.    \\n\\nDikatakan, penjualan aset BPPN tidak akan mampu menutup pengeluaran negara. Aset yang kini berada di BPPN senilai Rp 650 trilyun bila dijual hanya akan menghasilkan Rp 127 trilyun, atau hanya sekitar 26 persen dari nilai aset yang diserahkan ke BPPN. Dengan demikian, pemerintah masih harus menanggung ongkos krisis (cost of crisis) Rp 473 trilyun. \\n\\nOngkos krisis yang demikian besar terjadi karena terpuruknya perbankan dan ulah beberapa nasabahnya. \\\"Ada yang terpuruk karena memang akibat krisis, tetapi ada yang karena kesalahan manajemen, yaitu adanya mark up dan sebagainya. Semua ini berawal dari keberanian pemerintah pada tahun 1997, yang memutuskan menutup 16 bank sekaligus yang di dalamnya ada bank devisa. Keputusannya menjamin semua deposito di bank-bank nasional. Dan, ini menurut saya, merupakan kebijakan yang tidak proporsional,\\\" kata Wapres.  \\n\\nAkibat dari kebijakan di masa lalu itu, lanjut Hamzah, pemerintah harus menanggung beban Rp 650 trilyun, terbagi antara bunga obligasi rekapitalisasi Rp 430,7 trilyun, dan utang kepada BI Rp 228,3 trilyun.  \\n\\n\\\"Bayangkan pemerintah harus meng-cover utang kepada BI Rp 228,3 trilyun, memang dari jumlah itu Rp 9,9 trilyun adalah kredit program,\\\" tutur Hamzah. \\n\\nPenjadwalan kembali \\n\\nMelihat beratnya beban pembayaran utang dan bunga obligasi yang harus ditanggung oleh pemerintah, menurut Hamzah Haz, harus dilakukan terobosan dengan menjalankan program yang komprehensif dan konseptual. Caranya yaitu menggerakkan sektor riil dan sektor keuangan, sekaligus mengurangi beban pengeluaran rutin yang besar dan ongkos krisis yang mencapai Rp 430,7 trilyun. \\n\\n\\\"Apakah Pemerintah Indonesia saja yang harus menanggungnya. Sebab, kalau saya dengar keberanian pemerintah menutup 16 bank itu karena pada waktu itu IMF yang memerintahkan untuk melaksanakannya. Lalu, kenapa sekarang mereka tidak ikut menanggung ongkos krisis ini. Selama ini lembaga-lembaga keuangan internasional itu telah menikmati pembayaran utang dari kita, selama ini kita jadi good boy,\\\" ungkap Hamzah Haz. \\n\\nMenurut Hamzah, harus ada pembagian beban dalam menanggung ongkos krisis antara pemerintah, Bank Indonesia, dan lembaga-lembaga keuangan internasional yang menjadi kreditor Indonesia. \\\"Bagi kreditor luar negeri pembagian beban itu apakah dalam bentuk memberikan potongan utang, atau rescheduling dalam jangka panjang, yaitu 10 tahun atau 20 tahun, tidak cukup hanya dalam empat tahun,\\\" ujarnya.       \\n\\nOleh karena, lanjut Hamzah, dalam Paris Club bulan April 2002 pemerintah harus mampu meyakinkan perlunya penjadwalan kembali pembayaran utang dan bunga utang, dikaitkan dengan ongkos krisis yang harus ditanggung.  \\n\\n\\\"Namun, untuk sampai pada Paris Club bulan April, masih banyak tunggakan kita di dalam LoI (letter of intent), antara lain soal BCA harus sudah selesai bulan Maret. Penanganan aset di BPPN, UU BI, dan UU Money Laundering. Empat hal ini harus selesai dalam bulan Maret ini. Kalau dapat diselesaikan, akan mudah masuk ke dalam Paris Club,\\\" ungkap Wapres. \\n\\nUntuk mengembangkan sektor riil ini, pemerintah akan memanfaatkan sumber daya alam yang ada, bukan hanya sektor kegiatan ekonomi yang ada di darat, tetapi juga di laut dan udara, misalnya sektor perikanan dan hasil hutan. \\n\\nSoal Penyelesaian Kewajiban Pemegang Saham (PKPS) para debitor eks bank-bank di bawah Badan Penyehatan Perbankan Nasional (BPPN), Wapres mengatakan pemerintah tetap akan mengedepankan asas keadilan, dan tidak akan mengikuti pola-pola penyelesaian utang yang lama.\\n\\n\",\n          \"Solidaritas Kemanusiaan Universal\\n\\n\\\"Ya Allah, aku bermohon kepada-Mu (agar memberi) kebaikan (pada negeri) ini dan kebaikan penduduknya serta kebaikan yang ada di dalamnya. Aku berlindung pada-Mu dari kejahatan (yang terjadi) di negeri ini, dan kejahatan penduduknya, serta kejahatan yang ada di dalamnya.\\\"    (Doa Jemaah Haji).\\n\\nPADA setiap 10 Dzulhijjah kaum Muslimin di seluruh penjuru Bumi merayakan Idul Adha yang sering juga disebut Hari Raya Qurban. Di negeri kita, hari raya ini juga populer sebagai Hari Raya Haji. Sedangkan di negara-negara Arab juga disebut sebagai 'id al-nahar dan 'id al-kabir, sementara di Anak Benua India disebut pula sebagai bakra 'id , dan di Turki sebagai buyuk bayram atau qurban bayram.\\n\\nSemua sebutan ini selain menunjukkan identifikasi Idul Adha dengan penyembelihan hewan kurban dan pelaksanaan ibadah haji, sekaligus juga bahwa ia merupakan \\\"hari raya besar\\\" ( 'id al-kabir).\\n\\nMemang, di banyak wilayah Muslim lainnya, Idul Adha lebih \\\"besar\\\", atau tepatnya lebih semarak dirayakan umat Islam, dibandingkan Idul Fitri yang justru di Indonesia yang lebih besar syiarnya.\\n\\nRangkaian ibadah Idul Adha, seperti diketahui, dimulai dengan pelaksanaan shalat sunnat dua rakaat pada 10 Dzulhijjah, yang selanjutnya diikuti dengan penyembelihan hewan kurban sampai tanggal 13 Dzulhijjah. Sementara itu sejak tanggal 8 sampai 13 Dzulhijjah, jutaan jemaah haji berada dalam puncak pelaksanaan ritual-ritual ibadah haji di wilayah Mekkah al-Mukarramah.\\nTradisi Nabi Ibrahim\\nBaik ibadah kurban maupun ibadah haji banyak bersumber dari tradisi keagamaan Nabi Ibrahim ( millah Ibrahim).  Ibadah kurban berasal dari perintah Allah SWT mengorbankan putra terkasihnya Isma'il. Riwayat dan dialog antara ayah dan anak seputar perintah mengorbankan sang anak ini terekam di dalam Al Quran Surat Ash-Shaffat 37 ayat 100-111.   \\\"Maka tatkala anak itu (Isma'il) sampai (pada umur sanggup) berusaha bersama-sama Ibrahim, Ibrahim berkata: \\\"Hai anakku, sesungguhnya aku melihat dalam mimpi bahwa aku menyembelihmu. Maka pikirkanlah apa pendapatmu\\\".   Ia menjawab: \\\"Hai bapakku, kerjakanlah apa yang diperintahkan kepadamu; insya Allah kamu akan mendapatiku termasuk orang-orang yang sabar\\\" (QS Ash-Shaffat 37:102).  Sedangkan ibadah haji terkait pula dengan Nabi Ibrahim, tidak hanya karena Kabah yang disebut \\\"Baytullah\\\" (\\\"rumah Allah\\\")-di mana jemaah haji melakukan  thawaf -didirikan oleh Nabi Ibrahim, tetapi juga sebab banyak ritual ibadah haji merupakan pengalaman keagamaan yang pernah ditempuh Nabi Ibrahim dan keluarganya. Sebagai contoh saja, ritual  sa'i,  berjalan cepat sebanyak tujuh kali antara Shafa dan Marwa, merupakan napak tilas perjalanan istri Nabi Ibrahim, Siti Hajar, yang bolak-balik di antara kedua tempat ini untuk mencari air bagi bayinya, Isma'il, yang kehausan.  Ibadah kurban dan haji, dengan demikian, menjelaskan keterkaitan Islam dengan  millah  yang diwariskan Ibrahim, yakni agama Yahudi dan Nasrani. Para penganut kedua agama ini bersama-sama penganut Islam yang disampaikan Rasulullah Muhammad SAW disebut Al Quran sebagai \\\"muslimun\\\" (orang-orang yang pasrah, berserah diri, dan selamat). Hal ini dijelaskan dalam Al Quran Surat al-Hajj Ayat 78: (Ikutilah) agama bapakmu Ibrahim. Dia (Allah SWT) telah menamai kamu sekalian orang-orang muslimin sejak dari dulu, dan (begitu pula) dalam (Al Quran) ini, supaya Rasul itu menjadi saksi atas dirimu, dan supaya kamu menjadi saksi atas segenap manusia\\\".  Afinitas keagamaan  millah Ibrahim -agama Yahudi, Nasrani, dan Islam-lebih daripada sekadar keterkaitannya dengan Nabi Ibrahim yang dalam tradisi Islam disebut \\\"Imam\\\", dan dalam tradisi Judeo-Christian disebut  great patriarch.  Dalam perspektif keimanan ( kredo ) Islam, setiap Muslim sesuai dengan ketentuan Rukun Iman, wajib percaya kepada kitab suci Taurat ( Torah ) dan Injil ( Bible ). Dan sebagaimana dikemukakan almarhum Isma'il al-Faruqi, guru besar perbandingan agama pada Temple University, AS, kewajiban bagi Muslimin untuk percaya kepada kedua kitab suci tersebut merupakan doktrin yang unik. Menurut al-Faruqi, hanyalah Islam yang mewajibkan keimanan kepada kitab-kitab suci agama lain sebagai salah satu syarat keabsahan keimanan para pemeluknya.  Memandang afinitas historis dan doktrinal ketiga agama Ibrahim ( Abrahamic religions)  tadi, maka menjadi agak  absurd  jika para penganut masing-masing agama tersebut terlibat dalam pertengkaran dan konflik, apalagi kekerasan. Sebaliknya, dalam kesempatan mengenang tradisi Nabi Ibrahim sekarang ini, seyogianya orang-orang beriman ( the faithful  atau  the believers)  yang mengikuti  millah Ibrahim  mengembangkan  ukhuwah Ibrahimiyyah , persaudaraan dan solidaritas sesama pewaris agama-agama Nabi Ibrahim. Dapat tumbuh dan berkembangnya  ukhuwah Ibrahimiyyah  ini, tidak ragu lagi akan memperkuat tiga bentuk  ukhuwah  yang dikenal selama ini:  ukhuwah Islamiyyah  (persaudaraan dan solidaritas Islam),  ukhuwah wathaniyyah  (persaudaraan sesama anak bangsa ibu pertiwi), dan  ukhuwah basyariyyah  (persaudaraan dan solidaritas kemanusiaan universal).\\n\\\"Rihlah Mubarakah\\\"\\nIbadah kurban dan haji, tidak ragu lagi merupakan ibadah yang berat. Setidaknya dari sudut pandang ekonomi, kedua ibadah melibatkan pengeluaran dana yang cukup besar. Dan, karena itulah, kewajiban menjalankan kedua ibadah ini hanya berlaku bagi mereka yang betul-betul mampu secara ekonomis-finansial. Tetapi penting dicatat, secara spiritual, kemampuan ekonomi pun belum menjamin bahwa seorang Muslim atau Muslimat akan melaksanakan salah satu atau sekaligus kedua ibadah ini.\\n\\nDi sinilah para ulama sering mengatakan, bahwa masalah seorang pada akhirnya dapat melaksanakan ibadah haji, misalnya, selain berdasarkan pada kemampuan ekonomi dan finansial, juga terkait dengan \\\"panggilan Ibrahim\\\". Jika \\\"panggilan Ibrahim\\\" sudah datang barulah pada akhirnya seorang Muslim akan menunaikan ibadah haji. Karena itu pula setiap jemaah haji selalu dianjurkan untuk mendoakan karib kerabatnya yang belum naik haji agar segera mendapat \\\"panggilan Nabi Ibrahim\\\" guna menunaikan ibadah haji.\\n\\nAkan tetapi lebih dari itu, ibadah haji tidak hanya mempersyaratkan \\\"kemampuan\\\" ( istitha'ah) ekonomi-finansial dan fisik.\\n\\nIstitha'ah juga mencakup pengertian kemampuan meninggalkan keluarganya selama berhaji dalam keadaan baik; terjamin keamanan, kedamaian, dan kesejahteraannya. Karena itu, seorang Muslim dilarang pergi haji, jika dia kemudian meninggalkan keluarganya dalam keadaan berutang atau dalam kesulitan dan kacau balau. Dia harus menyelesaikan urusan rumah tangganya lebih dahulu sebelum berangkat menunaikan ibadah haji. Jika semua urusan yang berkaitan dengan rumah tangganya telah diselesaikannya dengan baik, barulah orang tersebut betul-betul dapat menempuh \\\"perjalanan ibadah haji yang penuh berkah\\\" ( rihlah mubarakah).\\n\\nRihlah Mubarakah ibadah haji merupakan \\\"perjalanan kembali ke pusat eksistensi\\\", kembali ke akar. Seperti dikemukakan Syaikh Abu al-A'la al-Maududi dalam Tafsir Fi Zhilalil-Qur'an, perjalanan ibadah haji adalah perjalanan menuju maqam Ibrahim, yakni maqam (tempat dan posisi) yang agung. Lebih jauh lagi, menuju maqam penyempurnaan dan pemenuhan janji berdasarkan kesaksian Allah SWT. Jika ini dapat dicapai seorang jemaah haji, maka barulah ia benar-benar akan dan dapat mengikuti jejak Nabi Ibrahim sebagai imam (pemimpin), sebagaimana dikemukakan dalam Surat al-Baqarah 2 Ayat 124: \\\"Sesungguhnya Aku (Allah) menjadikanmu imam bagi seluruh manusia\\\". Di sini, tulis al-Mawdudi, sang Imam yang dapat mencapai maqam Ibrahim, akan benar-benar menjadi teladan ( uswah hasanah), menuntun warganya menuju Allah SWT, membawa mereka kepada kebaikan dan kebenaran, dan betul-betul menjadi panutan dan pemimpin mereka.\\n\\nDengan demikian, ibadah haji dan ibadah qurban lebih daripada sekadar pemenuhan kewajiban formalistis keagamaan. Keduanya juga lebih daripada sekadar simbolisme keagamaan. Jika orang berhenti hanya pada batas formalisme dan simbolisme keagamaan itu, maka agaknya ia akan gagal mengambil dan mengaktualisasikan sebagian makna terdalam kedua ibadah ini, baik bagi dirinya sendiri, masyarakat dan bangsanya.\\n\\nWallahu a'lam bish-shawab.\\n\\nAzyumardi Azra,   guru besar dan Rektor IAIN Syarif Hidayatullah, Jakarta.\\n\",\n          \"Kebocoran Tangki Amoniak Belum Teratasi   Puslabfor Periksa PT Petrokimia Gresik\\n\\nMeski berbagai upaya penanggulangan telah dilakukan, kebocoran tangki amoniak milik PT Petrokimia Gresik, sampai Selasa (27/2) siang, belum teratasi. Untuk itu, Direktur Utama PT Petrokimia Gresik Rauf Purnama menyampaikan permohonan maaf kepada seluruh masyarakat, terutama di Gresik. Permohonan itu disampaikan melalui beberapa media massa lokal.\\n\\nSeperti diberitakan Kompas, Senin, terjadi kebocoran di tangki penyimpanan gas amoniak di pabrik unit II yang memproduksi pupuk fosfat. Tangki itu berkapasitas 7.500 ton amoniak cair. Akibat kebocoran ini, ratusan warga sekitar pabrik menjadi korban. Kebocoran di pabrik unit II itu tengah diperiksa Tim Pusat Laboratorium Forensik (Puslabfor) Markas Besar Polri.\\n\\nData terakhir dari tiga rumah sakit, yaitu RS Petrokimia Gresik, RSUD Gresik (Bunderan), dan RS Semen Gresik menyebutkan, total jumlah korban sebesar 438 orang. Jumlah itu belum termasuk yang tidak dievakuasi ke rumah sakit.\\n\\nSaat pemeriksaan, Tim Puslabfor didampingi jajaran Serse Kepolisian Resor (Polres) Gresik, Serse Kepolisian Daerah Jawa Timur (Polda Jatim), Tim Identifikasi Polda Jatim, dan Badan Pengendalian Dampak Lingkungan Daerah (Bapedalda). Ketua Tim Puslabfor Ajun Komisaris MT Siagian mengatakan, pihaknya belum bisa memastikan penyebab kebocoran itu. \\\"Hasil temuan akan disampaikan ke Polda Jatim dan Polres Gresik,\\\" ujar Siagian. \\n\\nSementara, menurut Kepala Satuan Reserse Polres Gresik Inspektur Satu Wahyu Bintoro, saat ini mereka baru akan memeriksa 12 saksi mata, kepala biro produksi, Setyo Wibowo, serta teknisi yang bertanggung jawab. \\n\\nPada saat yang sama, seluruh direksi PT Petrokimia Gresik tidak dapat ditemui karena sedang mengadakan pertemuan tertutup dengan anggota Komisi D DPRD Gresik. Pertemuan diadakan di Lantai 8 Gedung Graha Sarana.\\n\\nTekanan berlebih\\n\\nHingga Selasa siang, tangki yang bocor masih mengeluarkan gas amoniak. Bagian atas tangki berdiameter 26 meter dengan tinggi 21,85 meter tersebut melesak ke dalam dan berlubang. Agar gas amoniak tidak menguap dan tidak menyebar luas, tangki disemprot dengan air.\\n\\nDugaan sementara dari hasil temuan di lapangan, kebocoran tangki penyimpanan amoniak disebabkan adanya tekanan berlebihan (over pressure) di dalam tangki. Namun, apa penyebab kelebihan tekanan itu masih diselidiki. \\n\\nMenurut Wakil Kepala Biro Produksi PT Petrokimia Gresik Suliyono, kebocoran terjadi sekitar pukul 17.00 pada saat pengisian tangki penyimpanan. Saat itu, 79 ton gas amoniak yang dibawa oleh kapal tanker milik PT Pupuk Sriwijaya (Pusri) telah dialirkan melalui pipa sepanjang hampir dua kilometer. \\n\\nSuliyono mengatakan, tekanan berlebihan menyebabkan gas amoniak mendesak ke luar dari tangki buatan Perancis pada tahun 1972 itu. Hal ini menimbulkan letupan sehingga tangki menjadi berlubang. Berapa tekanan dalam tangki saat letupan terjadi juga masih diselidiki. \\n\\nSecara teknis, jelas Suliyono, suhu amoniak dalam tangki adalah minus 33 derajat Celcius. Sementara suhu amoniak dalam pipa saat dialirkan adalah minus 20 derajat Celcius. Suhu amoniak harus berada di bawah nol derajat Celcius agar amoniak tidak menguap. \\n\\nBerdasar temuan awal, Kepala Seksi Pengendalian Dampak Lingkungan Air dan Udara Bapedal Jatim Djoko Moeradiatno mengatakan, PT Petrokimia Gresik harus meninjau ulang prosedur pemeliharaan instalasi pabrik, termasuk tangki. Ia mengatakan, pemeliharaan tangki dilakukan lima tahun sekali. Padahal, tangki itu umurnya sudah lebih dari 20 tahun. \\n\\nKepala Humas PT Petrokimia Gresik Lutfi mengatakan, untuk membantu warga, PT Petrokimia Gresik membuka pos pelayanan kesehatan di tiap desa. Namun, PT Petrokimia Gresik masih mempertimbangkan tuntutan masyarakat agar pabrik ditutup. Pabrik tersebut juga belum berencana memberikan kompensasi kepada warga desa yang menjadi korban.\\n\\nSementara itu, di pintu masuk PT Petrokimia Gresik, ratusan warga melakukan aksi unjuk rasa. Mereka meminta agar pihak pabrik mau bertanggung jawab atas peristiwa yang mencelakakan dan membuat panik warga. Warga menuntut agar pabrik segera menanggulangi kebocoran itu. Sehari sebelumnya, warga sempat merusak pos kemananan di depan pabrik karena panik.   \\n\\n\"\n        ],\n        \"semantic_type\": \"\",\n        \"description\": \"\"\n      }\n    }\n  ]\n}"
            }
          },
          "metadata": {},
          "execution_count": 2
        }
      ]
    },
    {
      "cell_type": "markdown",
      "source": [
        "## **Ekstract TFIDF**"
      ],
      "metadata": {
        "id": "jvesiE35bcdo"
      }
    },
    {
      "cell_type": "code",
      "source": [
        "from sklearn.feature_extraction.text import TfidfVectorizer"
      ],
      "metadata": {
        "id": "uUwNq9BXbEL9"
      },
      "execution_count": 3,
      "outputs": []
    },
    {
      "cell_type": "code",
      "source": [
        "tfidf = TfidfVectorizer(ngram_range=(1,2), tokenizer=word_tokenize, stop_words=sw_indo)\n",
        "tfidf_matrix = tfidf.fit_transform(df.teks)"
      ],
      "metadata": {
        "colab": {
          "base_uri": "https://localhost:8080/"
        },
        "id": "G5dT28lZbkZ2",
        "outputId": "db8d004b-a4e0-4893-ebab-9659cda18712"
      },
      "execution_count": 6,
      "outputs": [
        {
          "output_type": "stream",
          "name": "stderr",
          "text": [
            "/usr/local/lib/python3.11/dist-packages/sklearn/feature_extraction/text.py:402: UserWarning: Your stop_words may be inconsistent with your preprocessing. Tokenizing the stop words generated tokens ['``'] not in stop_words.\n",
            "  warnings.warn(\n"
          ]
        }
      ]
    },
    {
      "cell_type": "markdown",
      "source": [
        "## **TFIDF Similarity -> Doocument Siimilarity**"
      ],
      "metadata": {
        "id": "fh9EYlO4cJmK"
      }
    },
    {
      "cell_type": "code",
      "source": [
        "from sklearn.metrics.pairwise import cosine_similarity"
      ],
      "metadata": {
        "id": "ttNlnjVTcXkh"
      },
      "execution_count": 7,
      "outputs": []
    },
    {
      "cell_type": "code",
      "source": [
        "sim = cosine_similarity(tfidf_matrix[0], tfidf_matrix)\n",
        "sim"
      ],
      "metadata": {
        "colab": {
          "base_uri": "https://localhost:8080/"
        },
        "id": "dbVljLFeccCy",
        "outputId": "2e1ec38d-89df-4d2e-8a59-a8ef6dd3b4e3"
      },
      "execution_count": 8,
      "outputs": [
        {
          "output_type": "execute_result",
          "data": {
            "text/plain": [
              "array([[1.        , 0.00858328, 0.01060043, ..., 0.00856287, 0.00677808,\n",
              "        0.01513341]])"
            ]
          },
          "metadata": {},
          "execution_count": 8
        }
      ]
    },
    {
      "cell_type": "code",
      "source": [
        "sim.argsort()"
      ],
      "metadata": {
        "colab": {
          "base_uri": "https://localhost:8080/"
        },
        "id": "HG5EyOXgcoo1",
        "outputId": "d4165ec2-87f8-4586-e1f4-c8b7cb48da02"
      },
      "execution_count": 9,
      "outputs": [
        {
          "output_type": "execute_result",
          "data": {
            "text/plain": [
              "array([[ 932, 1131, 1593, ...,  215,  144,    0]])"
            ]
          },
          "metadata": {},
          "execution_count": 9
        }
      ]
    },
    {
      "cell_type": "code",
      "source": [
        "df.teks[0][:200]"
      ],
      "metadata": {
        "colab": {
          "base_uri": "https://localhost:8080/",
          "height": 53
        },
        "id": "h7rW1EfPc5mV",
        "outputId": "b2b25424-d426-4fb8-e668-7fa74674abfe"
      },
      "execution_count": 13,
      "outputs": [
        {
          "output_type": "execute_result",
          "data": {
            "text/plain": [
              "'Ginandjar Tetap Ditahan. Jaksa Agung Dilaporkan ke Polri\\nKejaksaan Agung memutuskan untuk tetap menahan tersangka kasus korupsi, Ginandjar Kartasasmita, sampai batas waktu yang ditentukan KUHAP. Sedan'"
            ],
            "application/vnd.google.colaboratory.intrinsic+json": {
              "type": "string"
            }
          },
          "metadata": {},
          "execution_count": 13
        }
      ]
    },
    {
      "cell_type": "code",
      "source": [
        "df.teks[144][:200]"
      ],
      "metadata": {
        "colab": {
          "base_uri": "https://localhost:8080/",
          "height": 53
        },
        "id": "K8vGDZ3IdKxv",
        "outputId": "d7972190-7696-4ec7-8098-c9172e0f4945"
      },
      "execution_count": 15,
      "outputs": [
        {
          "output_type": "execute_result",
          "data": {
            "text/plain": [
              "'Kejaksaan Agung Terbitkan Surat Penahanan Baru\\nKejaksaan Agung (Kejagung) akhirnya menerbitkan surat perintah penahanan yang baru terhadap mantan Menteri Pertambangan dan Energi Ginandjar Kartasasmita'"
            ],
            "application/vnd.google.colaboratory.intrinsic+json": {
              "type": "string"
            }
          },
          "metadata": {},
          "execution_count": 15
        }
      ]
    },
    {
      "cell_type": "code",
      "source": [
        "df.teks[215][:200]"
      ],
      "metadata": {
        "colab": {
          "base_uri": "https://localhost:8080/",
          "height": 53
        },
        "id": "fiz9Fyz9dTzj",
        "outputId": "01971d23-2539-4ec9-d13c-c9e426398762"
      },
      "execution_count": 16,
      "outputs": [
        {
          "output_type": "execute_result",
          "data": {
            "text/plain": [
              "'Kuasa Hukum Ginandjar Bertahan di Rutan\\nSejumlah kuasa hukum Ginandjar Kartasasmita hingga hari Selasa (17/4) pukul 22.00 masih bertahan di ruang tahanan (rutan) Kejaksaan Agung (Kejagung). Selasa pag'"
            ],
            "application/vnd.google.colaboratory.intrinsic+json": {
              "type": "string"
            }
          },
          "metadata": {},
          "execution_count": 16
        }
      ]
    },
    {
      "cell_type": "code",
      "source": [
        "df.teks[932][:200]"
      ],
      "metadata": {
        "colab": {
          "base_uri": "https://localhost:8080/",
          "height": 53
        },
        "id": "E2lyH5NtdYku",
        "outputId": "9d858ebb-e092-4a7d-be84-ce356066b3c8"
      },
      "execution_count": 18,
      "outputs": [
        {
          "output_type": "execute_result",
          "data": {
            "text/plain": [
              "'Pusat Pengolahan Ikan Asin Lhokseumawe Terbakar\\nPusat pengolahan ikan asin di kawasan Pasar Ikan Lhokseumawe (Aceh) terbakar bersama berton-ton stok ikan asin Sabtu (13/1) siang. Sedikitnya 25 gudang '"
            ],
            "application/vnd.google.colaboratory.intrinsic+json": {
              "type": "string"
            }
          },
          "metadata": {},
          "execution_count": 18
        }
      ]
    },
    {
      "cell_type": "markdown",
      "source": [
        "## **Keyword Extraction**"
      ],
      "metadata": {
        "id": "rUqNTDond3PW"
      }
    },
    {
      "cell_type": "code",
      "source": [
        "vocab = tfidf.get_feature_names_out()\n",
        "vocab[-10:]"
      ],
      "metadata": {
        "colab": {
          "base_uri": "https://localhost:8080/"
        },
        "id": "J1zZ6ubUd5ps",
        "outputId": "b19af3a0-d14f-44c3-e7d3-81814d635794"
      },
      "execution_count": 19,
      "outputs": [
        {
          "output_type": "execute_result",
          "data": {
            "text/plain": [
              "array(['zuniga memilih', 'zunnatul', 'zunnatul mafruhah', 'zurich',\n",
              "       'zurich northholt', 'zw', 'zw suparman', 'zw tim', 'zx',\n",
              "       'zx diserbu'], dtype=object)"
            ]
          },
          "metadata": {},
          "execution_count": 19
        }
      ]
    },
    {
      "cell_type": "code",
      "source": [
        "tfidf_matrix[0].toarray()[0]"
      ],
      "metadata": {
        "colab": {
          "base_uri": "https://localhost:8080/"
        },
        "id": "iEnj3hFneIa0",
        "outputId": "af165124-9129-4457-8afd-e1d261698eb7"
      },
      "execution_count": 28,
      "outputs": [
        {
          "output_type": "execute_result",
          "data": {
            "text/plain": [
              "array([0.02115058, 0.        , 0.        , ..., 0.        , 0.        ,\n",
              "       0.        ])"
            ]
          },
          "metadata": {},
          "execution_count": 28
        }
      ]
    },
    {
      "cell_type": "code",
      "source": [
        "sorted_tfidf = tfidf_matrix[0].toarray()[0].argsort()\n",
        "sorted_tfidf"
      ],
      "metadata": {
        "colab": {
          "base_uri": "https://localhost:8080/"
        },
        "id": "Py8kzEMHeR4G",
        "outputId": "2b3370ff-6b0c-4d75-fc8e-6820029b7128"
      },
      "execution_count": 29,
      "outputs": [
        {
          "output_type": "execute_result",
          "data": {
            "text/plain": [
              "array([274212, 365469, 365468, ..., 386379, 436652, 169219])"
            ]
          },
          "metadata": {},
          "execution_count": 29
        }
      ]
    },
    {
      "cell_type": "code",
      "source": [
        "vocab[169219]"
      ],
      "metadata": {
        "colab": {
          "base_uri": "https://localhost:8080/",
          "height": 35
        },
        "id": "OoQK51aMeqYT",
        "outputId": "fdd1b495-2878-4e55-e5b8-28d03be71a00"
      },
      "execution_count": 30,
      "outputs": [
        {
          "output_type": "execute_result",
          "data": {
            "text/plain": [
              "'ginandjar'"
            ],
            "application/vnd.google.colaboratory.intrinsic+json": {
              "type": "string"
            }
          },
          "metadata": {},
          "execution_count": 30
        }
      ]
    },
    {
      "cell_type": "code",
      "source": [
        "vocab[436652]"
      ],
      "metadata": {
        "colab": {
          "base_uri": "https://localhost:8080/",
          "height": 35
        },
        "id": "Xr5avqUSetKT",
        "outputId": "81f69c81-68a6-4538-f8ae-55f6635b9e3d"
      },
      "execution_count": 31,
      "outputs": [
        {
          "output_type": "execute_result",
          "data": {
            "text/plain": [
              "'putusan'"
            ],
            "application/vnd.google.colaboratory.intrinsic+json": {
              "type": "string"
            }
          },
          "metadata": {},
          "execution_count": 31
        }
      ]
    },
    {
      "cell_type": "code",
      "source": [
        "[vocab[idx] for idx in reversed(sorted_tfidf[-10:])]"
      ],
      "metadata": {
        "colab": {
          "base_uri": "https://localhost:8080/"
        },
        "id": "CH3mXTWZev1H",
        "outputId": "b49a623f-ce38-46b0-bd4b-a5ebe825f91a"
      },
      "execution_count": 32,
      "outputs": [
        {
          "output_type": "execute_result",
          "data": {
            "text/plain": [
              "['ginandjar',\n",
              " 'putusan',\n",
              " 'penahanan',\n",
              " 'hukum ginandjar',\n",
              " 'kuasa hukum',\n",
              " 'rusman',\n",
              " 'kejaksaan',\n",
              " 'hakim rusman',\n",
              " 'kuasa',\n",
              " '9 april']"
            ]
          },
          "metadata": {},
          "execution_count": 32
        }
      ]
    },
    {
      "cell_type": "code",
      "source": [
        "def extract_keywords_tfidf(doc, tfidf, topk=10):\n",
        "  matrix = tfidf.transform([doc])\n",
        "  vocab = tfidf.get_feature_names_out()\n",
        "\n",
        "  sorted_tfidf = matrix[0].toarray()[0].argsort()\n",
        "  return [vocab[idx] for idx in reversed(sorted_tfidf[-topk:])]"
      ],
      "metadata": {
        "id": "JEneo3P6fGMN"
      },
      "execution_count": 33,
      "outputs": []
    }
  ]
}